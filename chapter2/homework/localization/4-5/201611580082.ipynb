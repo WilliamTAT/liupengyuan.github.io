{
 "cells": [
  {
   "cell_type": "code",
   "execution_count": 6,
   "metadata": {
    "collapsed": false
   },
   "outputs": [
    {
     "name": "stdout",
     "output_type": "stream",
     "text": [
      "请输入一个计算下界3\n",
      "请输入一个计算上界1000\n",
      "产生几个随机数？106\n",
      "232.93346689559232\n"
     ]
    }
   ],
   "source": [
    "import random,math \n",
    "def compute():\n",
    "    m=int(input('请输入一个计算下界'))\n",
    "    k=int(input('请输入一个计算上界'))\n",
    "    n=int(input('产生几个随机数？'))\n",
    "    \n",
    "    sum=0\n",
    "    number=0\n",
    "    i=0\n",
    "    while i<n:\n",
    "        number=random.randint(m,k)\n",
    "        sum=sum+number\n",
    "        i=i+1\n",
    "    print(math.sqrt(sum))\n",
    "    \n",
    "compute()\n",
    "        \n",
    "    "
   ]
  },
  {
   "cell_type": "code",
   "execution_count": 9,
   "metadata": {
    "collapsed": false
   },
   "outputs": [
    {
     "name": "stdout",
     "output_type": "stream",
     "text": [
      "请输入一个计算下界1\n",
      "请输入一个计算上界5000\n",
      "产生几个随机数？3456\n",
      "37447.03300763449\n",
      "329.207439282959\n"
     ]
    }
   ],
   "source": [
    "import math,random\n",
    "\n",
    "def compute():\n",
    "    m=int(input('请输入一个计算下界'))\n",
    "    k=int(input('请输入一个计算上界'))\n",
    "    n=int(input('产生几个随机数？'))\n",
    "    \n",
    "    sum1=0\n",
    "    number1=0\n",
    "    i=0\n",
    "    while i<n:\n",
    "        number1=math.log2(random.randint(m,k))\n",
    "        sum1=sum1+number1\n",
    "        i=i+1\n",
    "    print(sum1)\n",
    "    \n",
    "    sum2=0\n",
    "    number2=0\n",
    "    j=0\n",
    "    while j<n:\n",
    "        number2=1/(math.log2(random.randint(m,k)))\n",
    "        sum2=sum2+number2\n",
    "        j=j+1\n",
    "    print(sum2)\n",
    "compute()\n",
    "    \n",
    "    "
   ]
  },
  {
   "cell_type": "code",
   "execution_count": 1,
   "metadata": {
    "collapsed": false
   },
   "outputs": [
    {
     "name": "stdout",
     "output_type": "stream",
     "text": [
      "求s=a+aa+aaa+aaaa+aa...a的值，其中a是[1,9]之间的随机整数。例如2+22+222+2222+22222(此时共有5个数相加)，几个数相加由你丫决定。\n",
      "1\n",
      "请输入您想要几个数相加3\n",
      "133\n"
     ]
    }
   ],
   "source": [
    "print(\"求s=a+aa+aaa+aaaa+aa...a的值，其中a是[1,9]之间的随机整数。例如2+22+222+2222+22222(此时共有5个数相加)，几个数相加由你丫决定。\")\n",
    "import random\n",
    "def hello():\n",
    "    a=random.randint(1,9)\n",
    "    print(a)\n",
    "    n=int(input(\"请输入您想要几个数相加\"))\n",
    "    num=0\n",
    "    total=0\n",
    "    while num<n:\n",
    "        m=(11**num)*a\n",
    "        num+=1\n",
    "        total=total+m\n",
    "    print(total)\n",
    "hello()"
   ]
  }
 ],
 "metadata": {
  "kernelspec": {
   "display_name": "Python 3",
   "language": "python",
   "name": "python3"
  },
  "language_info": {
   "codemirror_mode": {
    "name": "ipython",
    "version": 3
   },
   "file_extension": ".py",
   "mimetype": "text/x-python",
   "name": "python",
   "nbconvert_exporter": "python",
   "pygments_lexer": "ipython3",
   "version": "3.6.0"
  }
 },
 "nbformat": 4,
 "nbformat_minor": 2
}
